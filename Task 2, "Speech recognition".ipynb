{
 "cells": [
  {
   "cell_type": "markdown",
   "metadata": {},
   "source": [
    "# Современные методы распознавания и синтеза речи\n",
    "## Практическое задание 2: Распознавание речи"
   ]
  },
  {
   "cell_type": "markdown",
   "metadata": {},
   "source": [
    "В данном задании вы разработаете систему распознавания речи на примере предсказания цифр. Вам будет дана обучающая выборка с произнесеннми цифрами (0-9), а также тестовая выборка аудиофайлов, для которых надо будет предсказать фразы.\n",
    "\n",
    "**Замечание:** Полный алгоритм описан в книге [Speech and Language Processing](https://1drv.ms/u/s!Ap7BENKQpVbHhxtoTnIqLvI-jo8a), в 9-й главе. При возникновении вопросов, рекомендуем обратиться к этому учебнику."
   ]
  },
  {
   "cell_type": "code",
   "execution_count": 1,
   "metadata": {
    "ExecuteTime": {
     "end_time": "2019-04-14T10:44:42.367117Z",
     "start_time": "2019-04-14T10:44:42.098476Z"
    }
   },
   "outputs": [
    {
     "ename": "ModuleNotFoundError",
     "evalue": "No module named 'librosa'",
     "output_type": "error",
     "traceback": [
      "\u001b[0;31m---------------------------------------------------------------------------\u001b[0m",
      "\u001b[0;31mModuleNotFoundError\u001b[0m                       Traceback (most recent call last)",
      "\u001b[0;32m<ipython-input-1-bc2a36016011>\u001b[0m in \u001b[0;36m<module>\u001b[0;34m\u001b[0m\n\u001b[1;32m      3\u001b[0m \u001b[0;32mfrom\u001b[0m \u001b[0mIPython\u001b[0m\u001b[0;34m.\u001b[0m\u001b[0mdisplay\u001b[0m \u001b[0;32mimport\u001b[0m \u001b[0mAudio\u001b[0m\u001b[0;34m,\u001b[0m \u001b[0mdisplay\u001b[0m\u001b[0;34m\u001b[0m\u001b[0;34m\u001b[0m\u001b[0m\n\u001b[1;32m      4\u001b[0m \u001b[0;32mimport\u001b[0m \u001b[0mnumpy\u001b[0m \u001b[0;32mas\u001b[0m \u001b[0mnp\u001b[0m\u001b[0;34m\u001b[0m\u001b[0;34m\u001b[0m\u001b[0m\n\u001b[0;32m----> 5\u001b[0;31m \u001b[0;32mimport\u001b[0m \u001b[0mlibrosa\u001b[0m\u001b[0;34m\u001b[0m\u001b[0;34m\u001b[0m\u001b[0m\n\u001b[0m\u001b[1;32m      6\u001b[0m \u001b[0;32mfrom\u001b[0m \u001b[0mlibrosa\u001b[0m\u001b[0;34m.\u001b[0m\u001b[0mdisplay\u001b[0m \u001b[0;32mimport\u001b[0m \u001b[0mspecshow\u001b[0m\u001b[0;34m\u001b[0m\u001b[0;34m\u001b[0m\u001b[0m\n\u001b[1;32m      7\u001b[0m \u001b[0;32mimport\u001b[0m \u001b[0mpandas\u001b[0m \u001b[0;32mas\u001b[0m \u001b[0mpd\u001b[0m\u001b[0;34m\u001b[0m\u001b[0;34m\u001b[0m\u001b[0m\n",
      "\u001b[0;31mModuleNotFoundError\u001b[0m: No module named 'librosa'"
     ]
    }
   ],
   "source": [
    "import warnings\n",
    "import os\n",
    "from IPython.display import Audio, display\n",
    "import numpy as np\n",
    "import librosa\n",
    "from librosa.display import specshow\n",
    "import pandas as pd\n",
    "import matplotlib.pyplot as plt\n",
    "from scipy.fftpack import fft, dct, ifft\n",
    "from sklearn.model_selection import train_test_split\n",
    "from scipy.stats import norm\n",
    "warnings.simplefilter('error')\n",
    "%matplotlib inline"
   ]
  },
  {
   "cell_type": "markdown",
   "metadata": {},
   "source": [
    "В выданном архиве, помимо Jupter Notebook, находятся следующие файлы:\n",
    "* cmudict-0.7b.txt – [фонетический словарь CMU (для ознакомления)](https://github.com/Alexir/CMUdict/blob/master/cmudict-0.7b)\n",
    "* cmu_digits.txt — фонетический словарь цифр\n",
    "* data/ — аудиофайлы с цифрами. Каждый подкаталог — отдельный класс. В конечных файлах содержится произношение цифр на английском языке."
   ]
  },
  {
   "cell_type": "code",
   "execution_count": 3,
   "metadata": {
    "collapsed": true
   },
   "outputs": [],
   "source": [
    "DATA_PATH = './data/'\n",
    "SAMPLE_RATE = 16000"
   ]
  },
  {
   "cell_type": "code",
   "execution_count": 16,
   "metadata": {
    "collapsed": true
   },
   "outputs": [],
   "source": [
    "# Загружаем данные и делаем train-validation split \n",
    "train = dict()\n",
    "test = dict()\n",
    "for path in sorted(os.listdir(DATA_PATH)):\n",
    "    full_path = os.path.join(DATA_PATH, path)\n",
    "    if os.path.isdir(full_path):\n",
    "        class_name = path.upper()\n",
    "        class_files = [os.path.join(full_path, f) for f in sorted(os.listdir(full_path))]\n",
    "        waves = [librosa.load(file, sr=SAMPLE_RATE)[0] for file in class_files]\n",
    "        np.random.seed(777) # Не забываем про воспроизводимость\n",
    "        train_waves, test_waves = train_test_split(waves)\n",
    "        train[class_name] = train_waves\n",
    "        test[class_name] = test_waves"
   ]
  },
  {
   "cell_type": "code",
   "execution_count": 8,
   "metadata": {},
   "outputs": [
    {
     "data": {
      "text/html": [
       "\n",
       "                <audio controls=\"controls\" >\n",
       "                    <source src=\"data:audio/x-wav;base64,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\" type=\"audio/x-wav\" />\n",
       "                    Your browser does not support the audio element.\n",
       "                </audio>\n",
       "              "
      ],
      "text/plain": [
       "<IPython.lib.display.Audio object>"
      ]
     },
     "metadata": {},
     "output_type": "display_data"
    }
   ],
   "source": [
    "display(Audio('data/eight/004ae714_nohash_0.wav'))"
   ]
  },
  {
   "cell_type": "code",
   "execution_count": 130,
   "metadata": {},
   "outputs": [
    {
     "data": {
      "text/plain": [
       "{'EIGHT': ['EY1', 'T'],\n",
       " 'FIVE': ['F', 'AY1', 'V'],\n",
       " 'FOUR': ['F', 'AO1', 'R'],\n",
       " 'NINE': ['N', 'AY1', 'N'],\n",
       " 'ONE': ['W', 'AH1', 'N'],\n",
       " 'SEVEN': ['S', 'EH1', 'V', 'AH0', 'N'],\n",
       " 'SIX': ['S', 'IH1', 'K', 'S'],\n",
       " 'THREE': ['TH', 'R', 'IY1'],\n",
       " 'TWO': ['T', 'UW1'],\n",
       " 'ZERO': ['Z', 'IY1', 'R', 'OW0']}"
      ]
     },
     "execution_count": 130,
     "metadata": {},
     "output_type": "execute_result"
    }
   ],
   "source": [
    "# Загружаем словарь фонем (нужен для бонусной части)\n",
    "phonemes_dictionary = {x[0]: x[1:] for x in [x.split() for x in open('cmu_digits.txt')]}\n",
    "phonemes_dictionary"
   ]
  },
  {
   "cell_type": "markdown",
   "metadata": {},
   "source": [
    "## Часть 1. Извлечение MFCC признаков (опционально, +5 баллов)\n",
    "Простейшие алгоритмы распознвания речи работают с построенными вручную признаками звуковых сигналов. Обучение на сырых данных, как правило, приводит к низкому качеству распознвания при использовании HMM моделей. В этой части задания мы реализуем функционал для извлечения таких признаков — [MFCC](https://en.wikipedia.org/wiki/Mel-frequency_cepstrum) (Mel frequency cepstrum coefficients).\n",
    "\n",
    "Построение MFCC коэффициентов происходит в несколько этапов. На первом этапе сигнал разбивается на кадры (frame) при помощи окон. В качестве окна для построения MFCC коэффициентов используется окно Хемминга: \n",
    "\n",
    "$$w[n] = \\begin{cases}0.54 - 0.46\\cos(\\frac{2\\pi n}{L}) & 0 \\le n < L \\\\ 0 & \\textrm{иначе}\\end{cases}$$\n",
    "\n",
    "Параметр $L$ выбирается таким образом, чтобы длина окна соответствовала 25ms. Кадры вычисляются со сдвигом в 10ms, то есть первый кадр будет соответствовать временному интервалу $[0, 25]$, второй — $[10, 35]$ и так далее. Итоговый сигнал получается поэлементным домножением исходного сигнала на сдвинутое окно.\n",
    "\n",
    "Второй шаг в алгоритме вычисления MFCC — усиление высоких частот (preemphasis). Такой эффект можно добиться, применив фильтр $y[n] = x[n] - \\alpha x[n-1]$, где $\\alpha \\in [0.9, 1]$. Чтобы убедиться, что этот фильтр усиливает высокие частоты, посмотрите на $\\mathcal{Z}$-transform этого фильтра.\n",
    "\n",
    "От каждого полученного окна вычисляется дискретное преобразование Фурье (DFT). Далее сигнал переводится в [mel](https://en.wikipedia.org/wiki/Mel_scale) шкалу, чтобы получить представление, линейное по восприятию. Сопоставление mel и частот (в Гц): $mel(f) = 1127\\ln(1+\\frac{f}{700})$. Таким образом, частоты ниже 1000Hz преобразуются линейно, а более высокие частоты — логарифмически сжимаются. Перевод осуществляется следующим образом: шкала частот $[0, f_{\\max}]$ переводится в mel шкалу: $[0, mel_{\\max}]$. Далее mel шкала разбивается на некоторое число равных интервалов. Каждой граничной точке интервала ставится в соответствие частота $f(mel) = (exp(mel/1127)-1)/700$. В результате получаем последовательность частот $f[k]$. Наконец, получаем mel коэффициенты, вычисляя логарифм суммарной энергии в треугольных окнах $f[k-1], f[k], f[k+1]$: $H_k[m] = \n",
    "\\begin{cases}\n",
    "0 & m < f[k-1] \\\\ \n",
    "\\frac{m-f[k-1]}{f[k]-f[k-1]} & f[k-1] \\le m \\le f[k] \\\\\n",
    "\\frac{f[k+1]-m}{f[k+1]-f[k]} & f[k] \\le m \\le f[k+1] \\\\\n",
    "0 & m > f[k+1]\\end{cases}$\n",
    "\n",
    "Mel коэффициенты $i$-ого окна: $S_i[k] = \\ln(\\sum_{m=0}^{L-1}(|X_i[m]|^2H_k[m])$.\n",
    "\n",
    "Mel признаки уже можно использовать для обучения моделей распознавания речи. Тем не менее, значительно лучшие результаты получаются при использовании спектра Mel коэффициентов, кепструм. Кепструм — спектр логарифма спектра. Он позволяет отедлить компоненты, создаваемые голосовыми связками и речевым трактом. Формально, для получения кепструма надо взять дискретное косинусное преобразование от mel коэффициентов. Из итоговых коэффициентов обычно оставляют около 12 первых компонент. Дополнительно к этим компонентам добавляют суммарную энергию фрейма. Также добавляют разность признаков соседних фреймов и разность разностей (вторая производная) фреймов. Суммарно получаем 39 коэффициентов на каждый фрейм.\n",
    "\n",
    "Более детальное описание есть в учебнике и [тут](https://habrahabr.ru/post/140828/)."
   ]
  },
  {
   "cell_type": "code",
   "execution_count": 11,
   "metadata": {
    "collapsed": true
   },
   "outputs": [],
   "source": [
    "def extract_mfcc(sound, sampling_rate, shift=32., L=128., mel_coefs=120, mfcc_coefs=12, alpha=0.9, eps=1e-9):\n",
    "    '''\n",
    "    Transfroms a sound wave into a sequence of MFCC coefficients.\n",
    "    :param sound: 1D np.array with sound wave\n",
    "    :param sampling rate: number of points sampled per second\n",
    "    :param shift: difference between starting points of consecutive frames, ms.\n",
    "    :param L: window length, ms.\n",
    "    Returns 2D array of size (frames x mfcc_dim)\n",
    "    '''\n",
    "    # TODO\n",
    "    return mfcc"
   ]
  },
  {
   "cell_type": "code",
   "execution_count": 294,
   "metadata": {
    "collapsed": true
   },
   "outputs": [],
   "source": [
    "# Извлекаем MFCC для всех точек\n",
    "\n",
    "train_mfccs = dict()\n",
    "test_mfccs = dict()\n",
    "for class_name in train:\n",
    "    mfccs = []\n",
    "    for sound in train[class_name]:\n",
    "        mfcc = extract_mfcc(sound, SAMPLE_RATE)\n",
    "        mfccs.append(mfcc)\n",
    "    train_mfccs[class_name] = mfccs\n",
    "    \n",
    "    mfccs = []\n",
    "    for sound in test[class_name]:\n",
    "        mfcc = extract_mfcc(sound, SAMPLE_RATE)\n",
    "        mfccs.append(mfcc)\n",
    "    test_mfccs[class_name] = mfccs"
   ]
  },
  {
   "cell_type": "markdown",
   "metadata": {},
   "source": [
    "Если вы решили не реализовывать MFCC признаки, используйте готовую функцию из `librosa`."
   ]
  },
  {
   "cell_type": "markdown",
   "metadata": {},
   "source": [
    "# Часть 2. Обучение ASR модели\n",
    "Теперь обучим 10 HMM в unsupervised режиме. Каждая будет отвечать за отдельное слово из словаря и оценивать $p(sound | word)$\n",
    "\n",
    "Если вы застряли с пониманием формул, рекомендуем обратиться к следующей литературе: [Hidden Markov Models](https://web.stanford.edu/~jurafsky/slp3/9.pdf), [HMM cheat sheet](http://www.bcl.hamilton.ie/~barak/misc/hmm.pdf), [A tutorial on HMM](http://www.ece.ucsb.edu/Faculty/Rabiner/ece259/Reprints/tutorial%20on%20hmm%20and%20applications.pdf)."
   ]
  },
  {
   "cell_type": "markdown",
   "metadata": {},
   "source": [
    "Для инициализации $p(o|i) = \\mathcal{N}(\\mu_i, \\Sigma_i)$ будем использовать глобальную оценку среднего и дисперсии по MFCC признакам: $\\mu_i = \\mu$, $\\Sigma_i = \\Sigma$. Также будем рассматривать только диагональные матрицы ковариации."
   ]
  },
  {
   "cell_type": "markdown",
   "metadata": {},
   "source": [
    "Альтернативно можно реализовать ASR так, как это было рассказано на лекции (см. [Speech and Language Processing](https://1drv.ms/u/s!Ap7BENKQpVbHhxtoTnIqLvI-jo8a), в 9-й): +10 баллов"
   ]
  },
  {
   "cell_type": "code",
   "execution_count": null,
   "metadata": {
    "collapsed": true
   },
   "outputs": [],
   "source": [
    "m0 = # TODO\n",
    "S0 = # TODO"
   ]
  },
  {
   "cell_type": "code",
   "execution_count": 570,
   "metadata": {
    "collapsed": true
   },
   "outputs": [],
   "source": [
    "class ASR:\n",
    "    def __init__(self, phonemes_dictionary, states=10, m0, S0):\n",
    "        '''\n",
    "        Initializes HMM\n",
    "        self.A — statesxstates, array of transition probabilities, initialize randomly\n",
    "        self.m — statesx39, mean of the p(o|i), initialize with global mean\n",
    "        self.S — statesx39, variance of the p(o|i), initialize with global variance\n",
    "        '''\n",
    "        # TODO\n",
    "            \n",
    "    def forward_backward(self, mfcc):\n",
    "        gamma = # TODO\n",
    "        xi = # TODO\n",
    "        return gamma, xi\n",
    "\n",
    "    def fit(self, train_mfccs, epochs=10):\n",
    "        '''\n",
    "        Fits the model using embedded training.\n",
    "        '''\n",
    "        # Run forward-backward to train hmm\n",
    "        # TODO\n",
    "        \n",
    "    def get_log_likelihood(self, mfcc):\n",
    "        # TODO\n",
    "        return log_likelihood"
   ]
  },
  {
   "cell_type": "markdown",
   "metadata": {
    "collapsed": true
   },
   "source": [
    "# Часть 3. Оценка качества модели\n",
    "Для предсказания слова применим формулу Байеса:\n",
    "$arg\\max p(w|o) = arg\\max \\frac{p(o|w)p(w)}{p(o)} = arg\\max p(o|w)p(w)$. Вероятность $p(w)$ можно оценить по обучающей выборке, а $p(o|w)$ мы уже научились оценивать при помощи HMM. Оцените точность обученной модели по тестовой выборке. "
   ]
  },
  {
   "cell_type": "code",
   "execution_count": 2,
   "metadata": {
    "collapsed": true
   },
   "outputs": [],
   "source": [
    "# TODO"
   ]
  },
  {
   "cell_type": "markdown",
   "metadata": {},
   "source": [
    "#### Бонус (+5 баллов)\n",
    "Как зависит качество от числа эпох? От числа состояний сети?"
   ]
  },
  {
   "cell_type": "code",
   "execution_count": null,
   "metadata": {
    "collapsed": true
   },
   "outputs": [],
   "source": []
  },
  {
   "cell_type": "markdown",
   "metadata": {},
   "source": [
    "### Оценивание\n",
    "Суммарные баллы (не более 40):\n",
    "* Реализация MFCC: +5 баллов\n",
    "* Обучение обычной HMM: + 15 баллов, или HMM с разделением параметров: + 25 баллов\n",
    "* Оценка качества модели: +10 баллов\n",
    "* Параллельная реализация: +5 баллов\n",
    "* Дополнительные эксперименты по сравнению моделей: +5 баллов"
   ]
  },
  {
   "cell_type": "code",
   "execution_count": null,
   "metadata": {
    "collapsed": true
   },
   "outputs": [],
   "source": []
  }
 ],
 "metadata": {
  "kernelspec": {
   "display_name": "Python 3",
   "language": "python",
   "name": "python3"
  },
  "language_info": {
   "codemirror_mode": {
    "name": "ipython",
    "version": 3
   },
   "file_extension": ".py",
   "mimetype": "text/x-python",
   "name": "python",
   "nbconvert_exporter": "python",
   "pygments_lexer": "ipython3",
   "version": "3.6.8"
  }
 },
 "nbformat": 4,
 "nbformat_minor": 2
}
