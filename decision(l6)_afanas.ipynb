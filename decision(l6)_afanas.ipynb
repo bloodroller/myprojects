{
 "cells": [
  {
   "cell_type": "markdown",
   "metadata": {
    "collapsed": true
   },
   "source": []
  },
  {
   "cell_type": "markdown",
   "metadata": {},
   "source": [
    "Я вспомнил, как вы упомянули на предпоследней лекции, что доказательство данного равенства можно выполнить как дз)."
   ]
  },
  {
   "cell_type": "markdown",
   "metadata": {},
   "source": [
    "Требовалось доказать:\n",
    "\n",
    "$$ p\\sqrt{\\frac{1-a}{a}} + (1-p)\\sqrt{\\frac{a}{1-a}} \\to \\min_a$$\n",
    "\n",
    "\n",
    "$$ p = a$$"
   ]
  },
  {
   "cell_type": "markdown",
   "metadata": {
    "collapsed": true
   },
   "source": [
    "Перепишем функционал:\n",
    "$$ p(\\frac{1}{a}-1)^{\\frac{1}{2}} + (1-p)(\\frac{1}{a}-1)^{-\\frac{1}{2}} \\to \\min_{a} $$\n",
    "\n",
    "Возьмем производную и приравняем к нулю:\n",
    "$$ -\\frac{1}{2} p (\\frac{1}{a} - 1)^{-\\frac{1}{2}}\\frac{1}{a^2} + \\frac{1}{2}(1-p)(\\frac{1}{a} -1)^{-\\frac{3}{2}}\\frac{1}{a^2} = 0 $$\n",
    "\n",
    "Пусть $ b = (\\frac{1}{a} -1)^{-\\frac{1}{2}}$, тогда:\n",
    "$$ -\\frac{pb}{a^2} + \\frac{(1-p)b^{3}}{a^2} = 0 $$\n",
    "\n",
    "$$   p(-b-b^{3}) + b^{3} = 0 $$ \n",
    "\n",
    "$$   p = \\frac{b^{3}}{b^{3}+b} $$ \n",
    "\n",
    "$$   p = \\frac{1}{1+b^{-2}} $$ \n",
    "\n",
    "$$   p = \\frac{1}{1+(\\frac{1}{a}-1)} $$ \n",
    "\n",
    "$$   p = a $$ "
   ]
  }
 ],
 "metadata": {
  "kernelspec": {
   "display_name": "Python 3",
   "language": "python",
   "name": "python3"
  },
  "language_info": {
   "codemirror_mode": {
    "name": "ipython",
    "version": 3
   },
   "file_extension": ".py",
   "mimetype": "text/x-python",
   "name": "python",
   "nbconvert_exporter": "python",
   "pygments_lexer": "ipython3",
   "version": "3.6.3"
  }
 },
 "nbformat": 4,
 "nbformat_minor": 2
}
