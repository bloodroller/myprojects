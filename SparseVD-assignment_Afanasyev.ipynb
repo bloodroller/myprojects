{
 "cells": [
  {
   "cell_type": "markdown",
   "metadata": {},
   "source": [
    "<h1 align=\"center\">Практичиское задание 2: Sparse Variational Dropout</h1>"
   ]
  },
  {
   "cell_type": "markdown",
   "metadata": {},
   "source": [
    "В этом задании вам предстоит реализовать Sparse VD -- метод для разреживания нейронных сетей https://arxiv.org/abs/1701.05369  "
   ]
  },
  {
   "cell_type": "code",
   "execution_count": 67,
   "metadata": {},
   "outputs": [],
   "source": [
    "import math\n",
    "import torch\n",
    "import numpy as np\n",
    "\n",
    "import torch.nn as nn\n",
    "import torch.optim as optim\n",
    "import torch.nn.functional as F\n",
    "\n",
    "from logger import Logger\n",
    "from torch.nn import Parameter\n",
    "from torch.autograd import Variable\n",
    "from torchvision import datasets, transforms"
   ]
  },
  {
   "cell_type": "markdown",
   "metadata": {},
   "source": [
    "## Реализуем полносвязный Sparse VD слой"
   ]
  },
  {
   "cell_type": "code",
   "execution_count": 68,
   "metadata": {},
   "outputs": [],
   "source": [
    "class LinearSVDO(nn.Module):\n",
    "    def __init__(self, in_features, out_features, threshold, bias=True):\n",
    "        super(LinearSVDO, self).__init__()\n",
    "        # in_features int\n",
    "        # out_features int \n",
    "        # threshold float\n",
    "        self.in_features = in_features\n",
    "        self.out_features = out_features\n",
    "        self.threshold = threshold\n",
    "\n",
    "        # =======================================\n",
    "        # Создайте параметры модели -- объекты класса Parameter\n",
    "        # W размера (out_features x in_features)\n",
    "        # log_sigma размера (out_features x in_features)\n",
    "        # bias размера (1, out_features)\n",
    "        # =======================================\n",
    "        self.log_sigma = Parameter(torch.ones(self.out_features, self.in_features))\n",
    "        self.bias = Parameter(torch.zeros(1, self.out_features))\n",
    "        self.W = Parameter(torch.zeros(self.out_features, self.in_features))\n",
    "        self.reset_parameters()\n",
    "\n",
    "    def reset_parameters(self):\n",
    "        # =======================================\n",
    "        # Инициализируйте параметры модели\n",
    "        # W -- нормальный случайный шум с центром в 0 и маленькой дисперсией\n",
    "        # log_sigma -- маленьким значением ~ -5 \n",
    "        # bias -- можно 0\n",
    "        # =======================================\n",
    "        self.W.data.normal_(mean = 0, std = 1e-5)\n",
    "        self.bias.data.uniform_(0, 0)\n",
    "        self.log_sigma.data.uniform_(-5, -5)\n",
    "        \n",
    "    def forward(self, x):\n",
    "        # =======================================\n",
    "        # x: Variable containing: [torch.FloatTensor of size batch_size x in_features]\n",
    "        # Return: type: Variable containing [torch.FloatTensor of size batch_size x out_features]\n",
    "        # ----------------------------------------\n",
    "        # Тут нужно написать forward шаг для Sparse VD слоя для минибатча объектов x\n",
    "        # На этапе обучения: Вернуть семпл активаций с помощью Local Reparametrization Trick \n",
    "        # На этапе тестирования: Вернуть средние активации, посчитанные с обрезанными весами \n",
    "        # Правило обрезания весов: alpha_ij < self.threshold ====> w_ij = 0\n",
    "        # ----------------------------------------\n",
    "        # Клипинг alpha_ij, например torch.clamp(self.log_alpha, -10, 10) может улучшить стабильность \n",
    "        # Чтобы не встретить nan-ы используйте трюк log(a) = log(a + 1e-8)\n",
    "        # ======================================= \n",
    "        \n",
    "        a = self.log_sigma.exp().pow(2).log()\n",
    "        b = torch.log(self.W.pow(2) + 1e-8)\n",
    "        self.log_alpha = torch.clamp(a - b, min = -10, max = 10)\n",
    "        \n",
    "        if self.training:\n",
    "            mean = torch.mm(x, self.W.t())\n",
    "            disp = torch.sqrt(torch.mm(x.pow(2), self.log_sigma.exp().pow(2).t()) + 1e-8)\n",
    "            small_val = Variable(torch.randn(*mean.size()))\n",
    "            ans = mean + disp * small_val + self.bias\n",
    "        else:\n",
    "            mask = self.log_alpha > self.threshold\n",
    "            ans = self.bias + torch.mm(x, self.W.masked_fill(mask, 0).t())\n",
    "            \n",
    "        return ans\n",
    "        \n",
    "    def kl_reg(self):\n",
    "        # =======================================\n",
    "        # Вернуть суммарную KL дивергенцию для всех параметров слоя \n",
    "        # Return: Variable containing: [torch.FloatTensor of size 1]\n",
    "        # =======================================\n",
    "        koef_molchanova1 = 0.63576\n",
    "        koef_molchanova2 = 1.87320\n",
    "        koef_molchanova3 = 1.48695\n",
    "        a = koef_molchanova1 * F.sigmoid(koef_molchanova2 + koef_molchanova3 * self.log_alpha)\n",
    "        b = torch.log(1 + torch.exp(-self.log_alpha))\n",
    "        result = (a - 1/2*b - koef_molchanova1).sum()\n",
    "        return -result"
   ]
  },
  {
   "cell_type": "markdown",
   "metadata": {},
   "source": [
    "## Создадим простую архитектуру LeNet-300-100"
   ]
  },
  {
   "cell_type": "code",
   "execution_count": 69,
   "metadata": {},
   "outputs": [],
   "source": [
    "class Net(nn.Module):\n",
    "    def __init__(self, threshold):\n",
    "        super(Net, self).__init__()\n",
    "        self.fc1 = LinearSVDO(28*28, 300, threshold)\n",
    "        self.fc2 = LinearSVDO(300,  100, threshold)\n",
    "        self.fc3 = LinearSVDO(100,  10, threshold)\n",
    "\n",
    "    def forward(self, x):\n",
    "        x = F.relu(self.fc1(x))\n",
    "        x = F.relu(self.fc2(x))\n",
    "        x = F.log_softmax(self.fc3(x), dim=1)\n",
    "        return x"
   ]
  },
  {
   "cell_type": "markdown",
   "metadata": {},
   "source": [
    "## Загрузим MNIST"
   ]
  },
  {
   "cell_type": "code",
   "execution_count": 59,
   "metadata": {},
   "outputs": [],
   "source": [
    "def get_mnist(batch_size):\n",
    "    trsnform = transforms.Compose([transforms.ToTensor(), transforms.Normalize((0.1307,), (0.3081,))])\n",
    "    train_loader = torch.utils.data.DataLoader(\n",
    "        datasets.MNIST('../data', train=True, download=True,\n",
    "        transform=trsnform), batch_size=batch_size, shuffle=True)\n",
    "    test_loader = torch.utils.data.DataLoader(\n",
    "        datasets.MNIST('../data', train=False, download=True,\n",
    "        transform=trsnform), batch_size=batch_size, shuffle=True)\n",
    "\n",
    "    return train_loader, test_loader"
   ]
  },
  {
   "cell_type": "markdown",
   "metadata": {},
   "source": [
    "## Определим новую функцию потерь SGVLB"
   ]
  },
  {
   "cell_type": "code",
   "execution_count": 60,
   "metadata": {},
   "outputs": [],
   "source": [
    "class SGVLB(nn.Module):\n",
    "    def __init__(self, net, train_size):\n",
    "        super(SGVLB, self).__init__()\n",
    "        self.train_size = train_size\n",
    "        self.net = net\n",
    "\n",
    "    def forward(self, output, target, kl_weight=1.0):\n",
    "        # =======================================\n",
    "        # output -- ответы модели для минибатча [torch.FloatTensor of size batch_size x 10]\n",
    "        # target -- настоящие ответы  [torch.LongTensor of size batch_size]\n",
    "        # kl_weight -- коэффициент на который нужно умножить kl дивергенцию, нужен для отжига (читай ниже)\n",
    "        # Вернуть Variable с посчитанной SGVLB функцией потерь \n",
    "        # Используйте self.net.children() для обхода всех слоев модели\n",
    "        # !!! Проверьте что множитель перед data term правильный !!!\n",
    "        # Return: Variable containing: [torch.FloatTensor of size 1]\n",
    "        # =======================================\n",
    "        result = F.nll_loss(output, target, size_average=True) * self.train_size\n",
    "        kl_sum = 0\n",
    "        for i, j in enumerate(model.children()):\n",
    "            kl_sum = kl_sum + j.kl_reg()\n",
    "        result = result + kl_weight * kl_sum \n",
    "        return result"
   ]
  },
  {
   "cell_type": "code",
   "execution_count": 61,
   "metadata": {},
   "outputs": [],
   "source": [
    "epochs, batch_size, threshold = 100, 100, 3\n",
    "model = Net(threshold)\n",
    "optimizer = torch.optim.Adam(model.parameters())# Тут ваш любимый оптимизатор, адам -- хороший выбор\n",
    "scheduler = optim.lr_scheduler.StepLR(optimizer, step_size = 25)# Тут расписание шага обучения torch.optim.lr_scheduler\n",
    "fmt = {'tr_los': '3.1e', 'te_loss': '3.1e', 'sp_0': '.3f', 'sp_1': '.3f', 'lr': '3.1e', 'kl': '.2f'}\n",
    "logger = Logger('sparse_vd', fmt=fmt)"
   ]
  },
  {
   "cell_type": "code",
   "execution_count": 62,
   "metadata": {},
   "outputs": [
    {
     "name": "stdout",
     "output_type": "stream",
     "text": [
      "  epoch    kl       lr    tr_los    tr_acc    te_loss    te_acc    sp_0    sp_1    sp_2\n",
      "-------  ----  -------  --------  --------  ---------  --------  ------  ------  ------\n",
      "      1  0.10  1.0e-03   4.5e+02      79.4    1.9e+02      94.5   0.563   0.294     0.0\n",
      "      2  0.15  1.0e-03   1.8e+02      95.2    1.4e+02      96.4   0.703   0.508     0.1\n",
      "      3  0.20  1.0e-03   1.4e+02      96.4    1.2e+02      96.8   0.770   0.614     0.1\n",
      "      4  0.25  1.0e-03   1.3e+02      96.8    1.2e+02      96.8   0.824   0.675     0.1\n",
      "      5  0.30  1.0e-03   1.2e+02      97.1    1.1e+02      97.3   0.860   0.721     0.1\n",
      "      6  0.35  1.0e-03   1.2e+02      97.2    1.0e+02      97.5   0.874   0.730     0.1\n",
      "      7  0.40  1.0e-03   1.1e+02      97.3    1.1e+02      97.6   0.887   0.740     0.2\n",
      "      8  0.45  1.0e-03   1.1e+02      97.3    1.0e+02      97.9   0.899   0.752     0.2\n",
      "      9  0.50  1.0e-03   1.1e+02      97.3    1.0e+02      97.6   0.905   0.764     0.2\n",
      "     10  0.55  1.0e-03   1.1e+02      97.3    1.0e+02      97.7   0.911   0.777     0.2\n",
      "     11  0.60  1.0e-03   1.1e+02      97.4    1.0e+02      97.8   0.916   0.798     0.2\n",
      "     12  0.65  1.0e-03   1.2e+02      97.2    1.1e+02      97.9   0.921   0.791     0.2\n",
      "     13  0.70  1.0e-03   1.1e+02      97.4    1.0e+02      98.0   0.920   0.804     0.3\n",
      "     14  0.75  1.0e-03   1.1e+02      97.3    1.1e+02      97.8   0.923   0.822     0.3\n",
      "     15  0.80  1.0e-03   1.1e+02      97.4    1.1e+02      97.9   0.930   0.831     0.3\n",
      "     16  0.85  1.0e-03   1.2e+02      97.3    1.0e+02      98.0   0.935   0.850     0.3\n",
      "     17  0.90  1.0e-03   1.2e+02      97.3    1.1e+02      97.9   0.936   0.852     0.3\n",
      "     18  0.95  1.0e-03   1.2e+02      97.2    1.1e+02      98.0   0.937   0.854     0.3\n",
      "     19     1  1.0e-03   1.2e+02      97.2    1.1e+02      98.1   0.941   0.869     0.3\n",
      "     20     1  1.0e-03   1.1e+02      97.3    1.0e+02      98.0   0.942   0.867     0.4\n",
      "     21     1  1.0e-03   1.1e+02      97.3    1.0e+02      98.0   0.944   0.866     0.4\n",
      "     22     1  1.0e-03   1.1e+02      97.3    1.0e+02      98.0   0.943   0.873     0.4\n",
      "     23     1  1.0e-03   1.1e+02      97.4    1.0e+02      97.9   0.943   0.883     0.4\n",
      "     24     1  1.0e-03   1.1e+02      97.3    9.9e+01      98.0   0.946   0.890     0.4\n",
      "     25     1  1.0e-03   1.1e+02      97.4    1.0e+02      97.6   0.945   0.891     0.4\n",
      "     26     1  1.0e-03   1.0e+02      97.5    9.5e+01      97.8   0.948   0.899     0.4\n",
      "     27     1  1.0e-03   1.1e+02      97.4    9.5e+01      97.9   0.948   0.899     0.4\n",
      "     28     1  1.0e-03   1.0e+02      97.3    9.7e+01      97.8   0.948   0.897     0.4\n",
      "     29     1  1.0e-03   1.0e+02      97.3    9.6e+01      97.9   0.947   0.897     0.4\n",
      "     30     1  1.0e-03   1.0e+02      97.5    9.5e+01      98.0   0.949   0.907     0.4\n",
      "     31     1  1.0e-04   9.0e+01      97.9    8.6e+01      98.1   0.961   0.937     0.5\n",
      "     32     1  1.0e-04   8.7e+01      97.9    8.5e+01      98.0   0.965   0.948     0.6\n",
      "     33     1  1.0e-04   8.5e+01      98.0    8.4e+01      98.0   0.968   0.953     0.6\n",
      "     34     1  1.0e-04   8.4e+01      98.0    8.3e+01      98.1   0.969   0.954     0.7\n",
      "     35     1  1.0e-04   8.4e+01      98.0    8.3e+01      98.1   0.969   0.956     0.7\n",
      "     36     1  1.0e-04   8.4e+01      98.0    8.3e+01      98.0   0.970   0.957     0.7\n",
      "     37     1  1.0e-04   8.3e+01      98.0    8.3e+01      98.0   0.970   0.958     0.7\n",
      "     38     1  1.0e-04   8.4e+01      97.9    8.2e+01      98.1   0.971   0.959     0.7\n",
      "     39     1  1.0e-04   8.3e+01      97.9    8.2e+01      98.0   0.971   0.959     0.7\n",
      "     40     1  1.0e-04   8.4e+01      97.9    8.2e+01      98.0   0.971   0.958     0.7\n",
      "     41     1  1.0e-04   8.3e+01      98.0    8.2e+01      98.1   0.971   0.958     0.7\n",
      "     42     1  1.0e-04   8.3e+01      97.9    8.2e+01      98.1   0.971   0.958     0.7\n",
      "     43     1  1.0e-04   8.4e+01      97.9    8.2e+01      98.1   0.971   0.959     0.7\n",
      "     44     1  1.0e-04   8.3e+01      97.9    8.2e+01      98.0   0.971   0.960     0.7\n",
      "     45     1  1.0e-04   8.4e+01      97.9    8.2e+01      98.1   0.972   0.960     0.7\n",
      "     46     1  1.0e-04   8.3e+01      97.9    8.2e+01      98.1   0.972   0.961     0.7\n",
      "     47     1  1.0e-04   8.1e+01      98.0    8.2e+01      98.1   0.972   0.960     0.7\n",
      "     48     1  1.0e-04   8.3e+01      97.9    8.1e+01      98.1   0.972   0.960     0.7\n",
      "     49     1  1.0e-04   8.2e+01      98.0    8.1e+01      98.1   0.972   0.960     0.7\n",
      "     50     1  1.0e-04   8.2e+01      98.0    8.1e+01      98.1   0.972   0.960     0.7\n",
      "     51     1  1.0e-04   8.1e+01      98.1    8.1e+01      98.1   0.972   0.960     0.7\n",
      "     52     1  1.0e-04   8.1e+01      98.0    8.1e+01      98.1   0.972   0.960     0.7\n",
      "     53     1  1.0e-04   8.1e+01      98.0    8.1e+01      98.1   0.973   0.960     0.7\n",
      "     54     1  1.0e-04   8.0e+01      98.0    8.1e+01      98.2   0.972   0.960     0.7\n",
      "     55     1  1.0e-04   8.1e+01      98.0    8.0e+01      98.1   0.972   0.960     0.7\n",
      "     56     1  1.0e-04   8.0e+01      98.0    8.1e+01      98.1   0.972   0.960     0.7\n",
      "     57     1  1.0e-04   8.0e+01      98.0    8.1e+01      98.1   0.973   0.961     0.7\n",
      "     58     1  1.0e-04   8.1e+01      98.0    8.1e+01      98.1   0.973   0.961     0.7\n",
      "     59     1  1.0e-04   8.1e+01      98.0    8.0e+01      98.1   0.973   0.961     0.7\n",
      "     60     1  1.0e-04   8.0e+01      98.0    8.1e+01      98.1   0.973   0.961     0.7\n",
      "     61     1  1.0e-05   8.0e+01      98.1    8.0e+01      98.1   0.973   0.962     0.7\n",
      "     62     1  1.0e-05   8.0e+01      98.0    8.0e+01      98.1   0.973   0.962     0.7\n",
      "     63     1  1.0e-05   8.0e+01      98.0    8.0e+01      98.1   0.973   0.962     0.7\n",
      "     64     1  1.0e-05   7.8e+01      98.1    8.0e+01      98.1   0.973   0.963     0.7\n",
      "     65     1  1.0e-05   7.8e+01      98.1    8.0e+01      98.1   0.973   0.963     0.7\n",
      "     66     1  1.0e-05   7.9e+01      98.0    8.0e+01      98.1   0.973   0.963     0.7\n",
      "     67     1  1.0e-05   7.9e+01      98.1    8.0e+01      98.1   0.973   0.963     0.7\n",
      "     68     1  1.0e-05   7.9e+01      98.1    8.0e+01      98.1   0.974   0.963     0.7\n",
      "     69     1  1.0e-05   7.8e+01      98.1    8.0e+01      98.1   0.974   0.964     0.7\n",
      "     70     1  1.0e-05   7.8e+01      98.1    8.0e+01      98.1   0.974   0.964     0.7\n",
      "     71     1  1.0e-05   7.8e+01      98.1    8.0e+01      98.1   0.974   0.964     0.7\n",
      "     72     1  1.0e-05   7.9e+01      98.0    8.0e+01      98.1   0.974   0.964     0.7\n",
      "     73     1  1.0e-05   7.8e+01      98.1    8.0e+01      98.1   0.974   0.964     0.7\n",
      "     74     1  1.0e-05   7.8e+01      98.1    8.0e+01      98.1   0.974   0.964     0.7\n",
      "     75     1  1.0e-05   7.8e+01      98.1    8.0e+01      98.1   0.974   0.964     0.7\n",
      "     76     1  1.0e-05   7.8e+01      98.1    8.0e+01      98.1   0.974   0.964     0.7\n",
      "     77     1  1.0e-05   7.8e+01      98.0    8.0e+01      98.1   0.974   0.964     0.7\n",
      "     78     1  1.0e-05   7.8e+01      98.1    8.0e+01      98.1   0.974   0.964     0.7\n",
      "     79     1  1.0e-05   7.8e+01      98.1    8.0e+01      98.1   0.974   0.965     0.7\n",
      "     80     1  1.0e-05   7.9e+01      98.0    8.0e+01      98.1   0.974   0.964     0.7\n",
      "     81     1  1.0e-05   7.9e+01      98.0    8.0e+01      98.1   0.974   0.964     0.7\n",
      "     82     1  1.0e-05   7.9e+01      98.0    8.0e+01      98.1   0.974   0.964     0.7\n",
      "     83     1  1.0e-05   7.9e+01      98.1    8.0e+01      98.1   0.974   0.965     0.7\n",
      "     84     1  1.0e-05   7.9e+01      98.0    8.0e+01      98.1   0.974   0.965     0.7\n",
      "     85     1  1.0e-05   7.9e+01      98.0    8.0e+01      98.1   0.974   0.965     0.7\n",
      "     86     1  1.0e-05   7.8e+01      98.0    8.0e+01      98.1   0.974   0.965     0.7\n",
      "     87     1  1.0e-05   7.9e+01      98.0    8.0e+01      98.1   0.974   0.965     0.7\n",
      "     88     1  1.0e-05   7.9e+01      98.0    8.0e+01      98.1   0.974   0.965     0.7\n",
      "     89     1  1.0e-05   7.8e+01      98.0    8.0e+01      98.1   0.974   0.965     0.7\n",
      "     90     1  1.0e-05   7.7e+01      98.1    8.0e+01      98.1   0.974   0.965     0.7\n",
      "     91     1  1.0e-06   7.8e+01      98.1    8.0e+01      98.1   0.974   0.965     0.7\n",
      "     92     1  1.0e-06   7.8e+01      98.1    8.0e+01      98.1   0.974   0.965     0.7\n"
     ]
    },
    {
     "name": "stdout",
     "output_type": "stream",
     "text": [
      "     93     1  1.0e-06   7.8e+01      98.1    8.0e+01      98.1   0.974   0.965     0.7\n",
      "     94     1  1.0e-06   7.8e+01      98.1    8.0e+01      98.1   0.974   0.965     0.7\n",
      "     95     1  1.0e-06   7.8e+01      98.0    8.0e+01      98.1   0.974   0.965     0.7\n",
      "     96     1  1.0e-06   7.9e+01      98.0    8.0e+01      98.1   0.974   0.965     0.7\n",
      "     97     1  1.0e-06   7.7e+01      98.2    8.0e+01      98.1   0.974   0.965     0.7\n",
      "     98     1  1.0e-06   7.7e+01      98.1    8.0e+01      98.1   0.974   0.965     0.7\n",
      "     99     1  1.0e-06   7.7e+01      98.1    8.0e+01      98.1   0.974   0.965     0.7\n",
      "    100     1  1.0e-06   7.7e+01      98.1    8.0e+01      98.1   0.974   0.965     0.7\n"
     ]
    }
   ],
   "source": [
    "# Для ускорения обучения используйте отжиг kl \n",
    "# Отжиг кл помогает избежать \"плохих локальных оптимумов\" и устроен так \n",
    "# kl_weight стартует с маленького значения и увеличивается до 1 с каким-то шагом\n",
    "# а потом остается 1 до конца обучения \n",
    "\n",
    "train_loader, test_loader = get_mnist(batch_size)\n",
    "sgvlb = SGVLB(model, len(train_loader.dataset))\n",
    "step = 5e-2# шаг для увеличения kl_weight\n",
    "\n",
    "# ===============\n",
    "kl_weight = step # Начальное значение веса KL\n",
    "# ===============\n",
    "for epoch in range(1, epochs + 1):\n",
    "    scheduler.step()\n",
    "    model.train()\n",
    "    train_loss, train_acc = 0, 0 \n",
    "    kl_weight = min(kl_weight+step, 1) \n",
    "    logger.add_scalar(epoch, 'kl', kl_weight)\n",
    "    logger.add_scalar(epoch, 'lr', scheduler.get_lr()[0])\n",
    "    for batch_idx, (data, target) in enumerate(train_loader):\n",
    "        data, target = Variable(data).view(-1, 28*28), Variable(target)\n",
    "        optimizer.zero_grad()\n",
    "        \n",
    "        output = model(data)\n",
    "        pred = output.data.max(1)[1] \n",
    "        loss = sgvlb(output, target, kl_weight)\n",
    "        loss.backward()\n",
    "        optimizer.step()\n",
    "        \n",
    "        train_loss += loss \n",
    "        train_acc += np.sum(pred.numpy() == target.data.numpy())\n",
    "\n",
    "    logger.add_scalar(epoch, 'tr_los', train_loss / len(train_loader.dataset))\n",
    "    logger.add_scalar(epoch, 'tr_acc', train_acc / len(train_loader.dataset) * 100)\n",
    "    \n",
    "    \n",
    "    model.eval()\n",
    "    test_loss, test_acc = 0, 0\n",
    "    for batch_idx, (data, target) in enumerate(test_loader):\n",
    "        data, target = Variable(data, volatile=True).view(-1, 28*28), Variable(target)\n",
    "        output = model(data)\n",
    "        test_loss += sgvlb(output, target, kl_weight).data[0] \n",
    "        pred = output.data.max(1)[1] \n",
    "        test_acc += np.sum(pred.numpy() == target.data.numpy())\n",
    "        \n",
    "    logger.add_scalar(epoch, 'te_loss', test_loss / len(test_loader.dataset))\n",
    "    logger.add_scalar(epoch, 'te_acc', test_acc / len(test_loader.dataset) * 100)\n",
    "    \n",
    "    for i, c in enumerate(model.children()):\n",
    "        if hasattr(c, 'kl_reg'):\n",
    "            logger.add_scalar(epoch, 'sp_%s' % i, (c.log_alpha.data.numpy() > threshold).mean())\n",
    "            \n",
    "    logger.iter_info()"
   ]
  },
  {
   "cell_type": "code",
   "execution_count": 63,
   "metadata": {},
   "outputs": [
    {
     "name": "stdout",
     "output_type": "stream",
     "text": [
      "keept weight ratio = 35.66930188932065\n"
     ]
    }
   ],
   "source": [
    "# Посмотрим во сколько раз у нас уменьшилось количество весов в первом слое \n",
    "# Тут хотим получить в 30+ раз меньше весов без падения качества на тесте\n",
    "\n",
    "all_w, kep_w = 0, 0\n",
    "\n",
    "for c in model.children():\n",
    "    kep_w += (c.log_alpha.data.numpy() < 3).sum()\n",
    "    all_w += c.log_alpha.data.numpy().size\n",
    "\n",
    "print('keept weight ratio =', all_w/kep_w)"
   ]
  },
  {
   "cell_type": "code",
   "execution_count": 64,
   "metadata": {},
   "outputs": [],
   "source": [
    "# Посмотрим какая компрессия получилась на диске\n",
    "import scipy\n",
    "import numpy as np\n",
    "from scipy.sparse import csc_matrix, csc_matrix, coo_matrix, dok_matrix\n",
    "\n",
    "row, col, data = [], [], []\n",
    "M = list(model.children())[0].W.data.numpy()\n",
    "LA = list(model.children())[0].log_alpha.data.numpy()\n",
    "\n",
    "for i in range(300):\n",
    "    for j in range(28*28):\n",
    "        if LA[i, j] < 3:\n",
    "            row += [i]\n",
    "            col += [j]\n",
    "            data += [M[i, j]]\n",
    "\n",
    "Mcsr = csc_matrix((data, (row, col)), shape=(300, 28*28))\n",
    "Mcsc = csc_matrix((data, (row, col)), shape=(300, 28*28))\n",
    "Mcoo = coo_matrix((data, (row, col)), shape=(300, 28*28))"
   ]
  },
  {
   "cell_type": "code",
   "execution_count": 65,
   "metadata": {},
   "outputs": [],
   "source": [
    "np.savez_compressed('M_w', M)\n",
    "scipy.sparse.save_npz('Mcsr_w', Mcsr)\n",
    "scipy.sparse.save_npz('Mcsc_w', Mcsc)\n",
    "scipy.sparse.save_npz('Mcoo_w', Mcoo)"
   ]
  },
  {
   "cell_type": "code",
   "execution_count": 66,
   "metadata": {},
   "outputs": [
    {
     "name": "stdout",
     "output_type": "stream",
     "text": [
      "-rw-rw-r--  1 bloodroller bloodroller  31K май  4 02:02 Mcoo_w.npz\r\n",
      "-rw-rw-r--  1 bloodroller bloodroller  30K май  4 02:02 Mcsc_w.npz\r\n",
      "-rw-rw-r--  1 bloodroller bloodroller  30K май  4 02:02 Mcsr_w.npz\r\n",
      "-rw-rw-r--  1 bloodroller bloodroller 782K май  4 02:02 M_w.npz\r\n"
     ]
    }
   ],
   "source": [
    "ls -lah | grep _w"
   ]
  },
  {
   "cell_type": "markdown",
   "metadata": {},
   "source": [
    "## Бонусная часть баллов 25%"
   ]
  },
  {
   "cell_type": "markdown",
   "metadata": {},
   "source": [
    "- Сжать этим методом сверточную сеть LeNet-5-Caffe в 100 + раз http://caffe.berkeleyvision.org/gathered/examples/mnist.html\n",
    "- Поэкспериментировать с разной битностью весов -- при какой битности качество начинает падать\n",
    "- Помогают ли веса меньшей битности сэкономить место на диске?"
   ]
  },
  {
   "cell_type": "code",
   "execution_count": null,
   "metadata": {
    "collapsed": true
   },
   "outputs": [],
   "source": []
  }
 ],
 "metadata": {
  "anaconda-cloud": {},
  "kernelspec": {
   "display_name": "Python 3",
   "language": "python",
   "name": "python3"
  },
  "language_info": {
   "codemirror_mode": {
    "name": "ipython",
    "version": 3
   },
   "file_extension": ".py",
   "mimetype": "text/x-python",
   "name": "python",
   "nbconvert_exporter": "python",
   "pygments_lexer": "ipython3",
   "version": "3.6.5"
  }
 },
 "nbformat": 4,
 "nbformat_minor": 2
}
